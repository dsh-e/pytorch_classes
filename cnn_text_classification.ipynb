{
  "nbformat": 4,
  "nbformat_minor": 0,
  "metadata": {
    "colab": {
      "name": "cnn_text_classification.ipynb",
      "provenance": [],
      "collapsed_sections": [
        "LlqDuaqUvCJX",
        "junrh5e08Dvp"
      ]
    },
    "kernelspec": {
      "name": "python3",
      "display_name": "Python 3"
    },
    "language_info": {
      "name": "python"
    },
    "accelerator": "GPU"
  },
  "cells": [
    {
      "cell_type": "code",
      "metadata": {
        "id": "XtFQP3RNll3c",
        "colab": {
          "base_uri": "https://localhost:8080/"
        },
        "outputId": "15dd008d-7155-4f23-9d52-b8d6255609d9"
      },
      "source": [
        "import re\n",
        "import nltk\n",
        "\n",
        "import torch\n",
        "from torch.utils.data import Dataset, DataLoader\n",
        "import torch.nn as nn\n",
        "import torch.optim as optim\n",
        "\n",
        "import pandas as pd\n",
        "from sklearn.model_selection import train_test_split\n",
        "from sklearn.metrics import accuracy_score\n",
        "from nltk.tokenize import word_tokenize\n",
        "from sklearn.preprocessing import LabelEncoder\n",
        "nltk.download('punkt')\n",
        "\n",
        "from nltk.tokenize import word_tokenize, sent_tokenize\n"
      ],
      "execution_count": null,
      "outputs": [
        {
          "output_type": "stream",
          "text": [
            "[nltk_data] Downloading package punkt to /root/nltk_data...\n",
            "[nltk_data]   Unzipping tokenizers/punkt.zip.\n"
          ],
          "name": "stdout"
        }
      ]
    },
    {
      "cell_type": "markdown",
      "metadata": {
        "id": "TXjM7qEUNFY_"
      },
      "source": [
        "## 2. Классификация фамилий по национальности (ConvNet)\n",
        "\n",
        "Датасет: https://disk.yandex.ru/d/owHew8hzPc7X9Q?w=1\n",
        "\n",
        "2.1 Считать файл `surnames/surnames.csv`. \n",
        "\n",
        "2.2 Закодировать национальности числами, начиная с 0.\n",
        "\n",
        "2.3 Разбить датасет на обучающую и тестовую выборку\n",
        "\n",
        "2.4 Реализовать класс `Vocab` (токен = __символ__)\n",
        "  * добавьте в словарь специальный токен `<PAD>` с индексом 0\n",
        "  * при создании словаря сохраните длину самой длинной последовательности из набора данных в виде атрибута `max_seq_len`\n",
        "\n",
        "2.5 Реализовать класс `SurnamesDataset`\n",
        "  * метод `__getitem__` возвращает пару: <последовательность индексов токенов (см. 1.1 ), номер класса> \n",
        "  * длина каждой такой последовательности должна быть одинаковой и равной `vocab.max_seq_len`. Чтобы добиться этого, дополните последовательность справа индексом токена `<PAD>` до нужной длины\n",
        "\n",
        "2.6. Обучить классификатор.\n",
        "  \n",
        "  * Для преобразования последовательности индексов в последовательность векторов используйте `nn.Embedding`. Рассмотрите два варианта: \n",
        "    - когда токен представляется в виде унитарного вектора и модуль `nn.Embedding` не обучается\n",
        "    - когда токен представляется в виде вектора небольшой размерности (меньше, чем размер словаря) и модуль `nn.Embedding` обучается\n",
        "\n",
        "  * Используйте одномерные свертки и пулинг (`nn.Conv1d`, `nn.MaxPool1d`)\n",
        "    - обратите внимание, что `nn.Conv1d` ожидает на вход трехмерный тензор размерности `(batch, embedding_dim, seq_len)`\n",
        "\n",
        "2.7 Измерить точность на тестовой выборке. Проверить работоспособность модели: прогнать несколько фамилий студентов группы через модели и проверить результат. Для каждой фамилии выводить 3 наиболее вероятных предсказания."
      ]
    },
    {
      "cell_type": "code",
      "metadata": {
        "id": "veALr84a7ilD"
      },
      "source": [
        "from sklearn import preprocessing\n",
        "from sklearn.model_selection import train_test_split"
      ],
      "execution_count": null,
      "outputs": []
    },
    {
      "cell_type": "markdown",
      "metadata": {
        "id": "0Wn2VhbjoXAz"
      },
      "source": [
        "### 2.1 Считать файл surnames/surnames.csv"
      ]
    },
    {
      "cell_type": "code",
      "metadata": {
        "colab": {
          "base_uri": "https://localhost:8080/",
          "height": 204
        },
        "id": "kP4jsg_A7Lk8",
        "outputId": "aac9b8d1-5891-4d79-db28-0982e5ca0fb0"
      },
      "source": [
        "data = pd.read_csv('/content/drive/MyDrive/datasets/surnames.csv')\n",
        "data.head()"
      ],
      "execution_count": null,
      "outputs": [
        {
          "output_type": "execute_result",
          "data": {
            "text/html": [
              "<div>\n",
              "<style scoped>\n",
              "    .dataframe tbody tr th:only-of-type {\n",
              "        vertical-align: middle;\n",
              "    }\n",
              "\n",
              "    .dataframe tbody tr th {\n",
              "        vertical-align: top;\n",
              "    }\n",
              "\n",
              "    .dataframe thead th {\n",
              "        text-align: right;\n",
              "    }\n",
              "</style>\n",
              "<table border=\"1\" class=\"dataframe\">\n",
              "  <thead>\n",
              "    <tr style=\"text-align: right;\">\n",
              "      <th></th>\n",
              "      <th>surname</th>\n",
              "      <th>nationality</th>\n",
              "    </tr>\n",
              "  </thead>\n",
              "  <tbody>\n",
              "    <tr>\n",
              "      <th>0</th>\n",
              "      <td>Woodford</td>\n",
              "      <td>English</td>\n",
              "    </tr>\n",
              "    <tr>\n",
              "      <th>1</th>\n",
              "      <td>Coté</td>\n",
              "      <td>French</td>\n",
              "    </tr>\n",
              "    <tr>\n",
              "      <th>2</th>\n",
              "      <td>Kore</td>\n",
              "      <td>English</td>\n",
              "    </tr>\n",
              "    <tr>\n",
              "      <th>3</th>\n",
              "      <td>Koury</td>\n",
              "      <td>Arabic</td>\n",
              "    </tr>\n",
              "    <tr>\n",
              "      <th>4</th>\n",
              "      <td>Lebzak</td>\n",
              "      <td>Russian</td>\n",
              "    </tr>\n",
              "  </tbody>\n",
              "</table>\n",
              "</div>"
            ],
            "text/plain": [
              "    surname nationality\n",
              "0  Woodford     English\n",
              "1      Coté      French\n",
              "2      Kore     English\n",
              "3     Koury      Arabic\n",
              "4    Lebzak     Russian"
            ]
          },
          "metadata": {
            "tags": []
          },
          "execution_count": 60
        }
      ]
    },
    {
      "cell_type": "markdown",
      "metadata": {
        "id": "uJSqkHmgok5A"
      },
      "source": [
        "### 2.2 Закодировать национальности числами, начиная с 0."
      ]
    },
    {
      "cell_type": "code",
      "metadata": {
        "id": "wc4CFVn_7dhy"
      },
      "source": [
        "lst = data.nationality.unique()\n",
        "le = LabelEncoder()\n",
        "le.fit(lst)\n",
        "for i in range(len(data)):\n",
        "  data.nationality[i] = le.transform([data.nationality[i]]).item()\n"
      ],
      "execution_count": null,
      "outputs": []
    },
    {
      "cell_type": "code",
      "metadata": {
        "colab": {
          "base_uri": "https://localhost:8080/",
          "height": 204
        },
        "id": "4NRk9GxF7gLi",
        "outputId": "7984b8fd-e74e-4502-ef44-bbaea202c621"
      },
      "source": [
        "data.head()"
      ],
      "execution_count": null,
      "outputs": [
        {
          "output_type": "execute_result",
          "data": {
            "text/html": [
              "<div>\n",
              "<style scoped>\n",
              "    .dataframe tbody tr th:only-of-type {\n",
              "        vertical-align: middle;\n",
              "    }\n",
              "\n",
              "    .dataframe tbody tr th {\n",
              "        vertical-align: top;\n",
              "    }\n",
              "\n",
              "    .dataframe thead th {\n",
              "        text-align: right;\n",
              "    }\n",
              "</style>\n",
              "<table border=\"1\" class=\"dataframe\">\n",
              "  <thead>\n",
              "    <tr style=\"text-align: right;\">\n",
              "      <th></th>\n",
              "      <th>surname</th>\n",
              "      <th>nationality</th>\n",
              "    </tr>\n",
              "  </thead>\n",
              "  <tbody>\n",
              "    <tr>\n",
              "      <th>0</th>\n",
              "      <td>Woodford</td>\n",
              "      <td>4</td>\n",
              "    </tr>\n",
              "    <tr>\n",
              "      <th>1</th>\n",
              "      <td>Coté</td>\n",
              "      <td>5</td>\n",
              "    </tr>\n",
              "    <tr>\n",
              "      <th>2</th>\n",
              "      <td>Kore</td>\n",
              "      <td>4</td>\n",
              "    </tr>\n",
              "    <tr>\n",
              "      <th>3</th>\n",
              "      <td>Koury</td>\n",
              "      <td>0</td>\n",
              "    </tr>\n",
              "    <tr>\n",
              "      <th>4</th>\n",
              "      <td>Lebzak</td>\n",
              "      <td>14</td>\n",
              "    </tr>\n",
              "  </tbody>\n",
              "</table>\n",
              "</div>"
            ],
            "text/plain": [
              "    surname nationality\n",
              "0  Woodford           4\n",
              "1      Coté           5\n",
              "2      Kore           4\n",
              "3     Koury           0\n",
              "4    Lebzak          14"
            ]
          },
          "metadata": {
            "tags": []
          },
          "execution_count": 62
        }
      ]
    },
    {
      "cell_type": "markdown",
      "metadata": {
        "id": "w7MYeDWeochz"
      },
      "source": [
        "### 2.3 Разбить датасет на обучающую и тестовую выборку"
      ]
    },
    {
      "cell_type": "code",
      "metadata": {
        "colab": {
          "base_uri": "https://localhost:8080/"
        },
        "id": "nB7Pr7V774sF",
        "outputId": "e35e927c-939f-4193-9a4b-23dd48ba3217"
      },
      "source": [
        "X = data.surname.values\n",
        "y = data.nationality.values\n",
        "\n",
        "x_train, x_test, y_train, y_test = train_test_split(X, y, test_size = 0.2, random_state = 42)\n",
        "\n",
        "print(\"Training Data: \", len(x_train))\n",
        "print(\"Testing Data: \", len(x_test))"
      ],
      "execution_count": null,
      "outputs": [
        {
          "output_type": "stream",
          "text": [
            "Training Data:  8784\n",
            "Testing Data:  2196\n"
          ],
          "name": "stdout"
        }
      ]
    },
    {
      "cell_type": "code",
      "metadata": {
        "colab": {
          "base_uri": "https://localhost:8080/"
        },
        "id": "URn4kqtkzE47",
        "outputId": "b9c9abea-d7b5-448b-b98a-c9f8bf582207"
      },
      "source": [
        "y_test.shape"
      ],
      "execution_count": null,
      "outputs": [
        {
          "output_type": "execute_result",
          "data": {
            "text/plain": [
              "(2196,)"
            ]
          },
          "metadata": {
            "tags": []
          },
          "execution_count": 64
        }
      ]
    },
    {
      "cell_type": "markdown",
      "metadata": {
        "id": "c_I-6fEk898J"
      },
      "source": [
        "### 2.4 Реализовать класс Vocab (токен = символ)\n",
        "\n",
        "добавьте в словарь специальный токен <PAD> с индексом 0\n",
        "\n",
        "\n",
        "при создании словаря сохраните длину самой длинной последовательности из набора данных в виде атрибута max_seq_len"
      ]
    },
    {
      "cell_type": "code",
      "metadata": {
        "id": "LSNcypjK8lq6"
      },
      "source": [
        "class Vocab:\n",
        "  def __init__(self, data):\n",
        "    tokens = set()\n",
        "    for surname in data:\n",
        "      tokens.update(surname)\n",
        "\n",
        "    self.idx_to_token = {(idx+1): token for idx, token in enumerate(tokens)}\n",
        "    self.token_to_idx = {token: idx for idx, token in self.idx_to_token.items()}\n",
        "\n",
        "    self.idx_to_token[0] = '<PAD>'\n",
        "    self.token_to_idx['<PAD>'] = 0\n",
        "\n",
        "    self.vocab_len = len(self.idx_to_token)\n",
        "    self.max_seq_len = len(max(list(data), key=len))"
      ],
      "execution_count": null,
      "outputs": []
    },
    {
      "cell_type": "code",
      "metadata": {
        "colab": {
          "base_uri": "https://localhost:8080/"
        },
        "id": "aVcrpTzb_RWV",
        "outputId": "16b296bd-c39f-4bf4-fdcf-c49217216a81"
      },
      "source": [
        "v = Vocab(X)\n",
        "print(v.vocab_len)\n",
        "print(v.max_seq_len)"
      ],
      "execution_count": null,
      "outputs": [
        {
          "output_type": "stream",
          "text": [
            "85\n",
            "17\n"
          ],
          "name": "stdout"
        }
      ]
    },
    {
      "cell_type": "code",
      "metadata": {
        "colab": {
          "base_uri": "https://localhost:8080/"
        },
        "id": "oNkDujNxAOkZ",
        "outputId": "ca2e25e7-1323-40fb-b414-0ec6ebae7cba"
      },
      "source": [
        "print(v.token_to_idx['<PAD>'])\n",
        "print(v.idx_to_token[41])"
      ],
      "execution_count": null,
      "outputs": [
        {
          "output_type": "stream",
          "text": [
            "0\n",
            "j\n"
          ],
          "name": "stdout"
        }
      ]
    },
    {
      "cell_type": "markdown",
      "metadata": {
        "id": "I97lXcSE_i37"
      },
      "source": [
        "### 2.5 Реализовать класс SurnamesDataset\n",
        "\n",
        "метод __getitem__ возвращает пару: <последовательность индексов токенов (см. 1.1 ), номер класса>\n",
        "\n",
        "\n",
        "длина каждой такой последовательности должна быть одинаковой и равной vocab.max_seq_len. Чтобы добиться этого, дополните последовательность справа индексом токена <PAD> до нужной длины"
      ]
    },
    {
      "cell_type": "code",
      "metadata": {
        "colab": {
          "base_uri": "https://localhost:8080/"
        },
        "id": "y3Zb7gsMqFHn",
        "outputId": "700c037a-cdcc-4c3e-b7c0-42e2116fb693"
      },
      "source": [
        "torch.zeros(2, v.max_seq_len)\n"
      ],
      "execution_count": null,
      "outputs": [
        {
          "output_type": "execute_result",
          "data": {
            "text/plain": [
              "tensor([[0., 0., 0., 0., 0., 0., 0., 0., 0., 0., 0., 0., 0., 0., 0., 0., 0.],\n",
              "        [0., 0., 0., 0., 0., 0., 0., 0., 0., 0., 0., 0., 0., 0., 0., 0., 0.]])"
            ]
          },
          "metadata": {
            "tags": []
          },
          "execution_count": 68
        }
      ]
    },
    {
      "cell_type": "code",
      "metadata": {
        "id": "AFjFIKk8AgYq"
      },
      "source": [
        "class SurnamesDataset(Dataset):\n",
        "  def __init__(self, X: pd.Series, y, vocab: Vocab):\n",
        "    self.X = X \n",
        "    self.y = y\n",
        "    self.vocab = vocab\n",
        "\n",
        "  def vectorize(self, surname: str):\n",
        "    surname_t = torch.zeros(1, self.vocab.max_seq_len)\n",
        "\n",
        "    for i, s in enumerate(surname):\n",
        "      surname_t[:,i] = self.vocab.token_to_idx[s]\n",
        "    \n",
        "    return surname_t.flatten()\n",
        "\n",
        "  def __len__(self):\n",
        "    return len(self.X)\n",
        "\n",
        "  def __getitem__(self, idx):\n",
        "    return self.vectorize(self.X[idx]), self.y[idx] "
      ],
      "execution_count": null,
      "outputs": []
    },
    {
      "cell_type": "markdown",
      "metadata": {
        "id": "P2vShp0_ouV_"
      },
      "source": [
        "### 2.6. Обучить классификатор.\n",
        "\n",
        "Для преобразования последовательности индексов в последовательность векторов используйте nn.Embedding. Рассмотрите два варианта:\n",
        "\n",
        "- когда токен представляется в виде унитарного вектора и модуль nn.Embedding не обучается\n",
        "\n",
        "- когда токен представляется в виде вектора небольшой размерности (меньше, чем размер словаря) и модуль nn.Embedding обучается\n",
        "\n",
        "Используйте одномерные свертки и пулинг (nn.Conv1d, nn.MaxPool1d)\n",
        "\n",
        "обратите внимание, что nn.Conv1d ожидает на вход трехмерный тензор размерности (batch, embedding_dim, seq_len)"
      ]
    },
    {
      "cell_type": "code",
      "metadata": {
        "id": "bgSPkakro0cO"
      },
      "source": [
        "surnames_train = SurnamesDataset(x_train, y_train, v)\n",
        "surnames_test = SurnamesDataset(x_test, y_test, v)\n",
        "\n",
        "s_dataloader_train = DataLoader(surnames_train, batch_size = 64, shuffle=True)\n",
        "s_dataloader_test = DataLoader(surnames_test, batch_size = 64, shuffle=True)"
      ],
      "execution_count": null,
      "outputs": []
    },
    {
      "cell_type": "markdown",
      "metadata": {
        "id": "UGXR-c76sekm"
      },
      "source": [
        "![image.png](data:image/png;base64,iVBORw0KGgoAAAANSUhEUgAAAn0AAABpCAYAAABPq5VpAAAgAElEQVR4Ae2d+69WRZrv+Xn+gPnlJJ2cX5zknEwyncnJ9GRi5/RMOrGjceKZ09qt3Y2XOdLarS0qqCiIeEMEBPGKd0GkEeUO7RVUFBQUBEFAUFFBQfCGaHujTj615/tae7Fu737ffX2/O1mpd9Wqeuqpp75V9a2nau01LPjPFrAFbAFbwBawBWwBW2DIW2DYkK+hK2gL2AK2gC1gC9gCtoAtEEz6DAJbwBawBWwBW8AWsAU6wAImfR3QyK6iLWAL2AK2gC1gC9gCJn3GgC1gC9gCtoAtYAvYAh1gAZO+DmhkV9EWsAVsAVvAFrAFbAGTPmPAFrAFbAFbwBawBWyBDrCASV8HNLKraAvYAraALWAL2AK2wLDwo2HBl21gDBgDxoAxYAwYA8bA0MaASZ9Jr0m/MWAMGAPGgDFgDHQABkz6OqCRvXIb2is3t6/b1xgwBowBY6AOBoYd+uKr4Ms2MAaMAWPAGDAGjAFjYGhjwKTPpNek3xgwBowBY8AYMAY6AAMmfR3QyF65De2Vm9vX7WsMGAPGgDFQBwMmfSZ9Xt0ZA8aAMWAMGAPGQAdgwKSvAxq5Dvt3Gq8SjQFjwBgwBoyBoY0Bkz6TPq/ujAFjwBgwBowBY6ADMGDS1wGN7JXb0F65uX3dvsaAMWAMGAN1MGDSZ9Ln1Z0xYAwYA8aAMWAMdAAGTPo6oJHrsH+n8SrRGDAGjAFjwBgY2hgw6TPp8+rOGDAGjAFjwBgwBjoAAyZ9HdDIXrkN7ZWb29ftawwYA8aAMVAHAyZ9Jn1e3RkDxoAxYAwYA8ZAB2DApK8DGrkO+3carxKNAWPAGDAGjIGhjYFapO/w3g/C1889Hb6dc3f4+okl4fDbbzVWBId37w5fvf5a474QMIe+DF9t2hC+3L6tMO1Xr70avn34nvDNM4+Hwx/uOyod5X4774Hw9fKF4fCuXUc9Lyx7ABO7pctWhJumTQ+ffvbFkKhPWRs8+tjCMOOWW9taz61vbI/227BxU6HcWbPnhHvuve+o56uefT5cfsXY8PqWN456VlaPZp99dOCTMHLkheG8884PBw5+2qtlNatbO9OvXbsutsX2He3rm/QL+sfCRUsK7bZy5XMxzbvv7e2WZsebb4UJV18TlixZ1i2+nXXuL1nv7H4v1vnZ51a3tW5z5swNt99+Z6HMbdvfjOW+9PL6o9I8PHdeGDfuyrD/o4+PetbXdhosepbZZShg//nVL4axY68MG197vRQTdepaZis/q09Uy0nfocPhu5lTQ/jRsKOu7yeNjY34/VUXxmdVRoc0RjnHDAtfHOg+KHz91PIQ/uW/H1XGNwsejmV8+f6eEE7856Oefz/holIgVenE89kPPRz+4cc/Drve2t2yrDrlZdNcdPGocMwxx4SDH3/WL+Vn9Sm6X7R4abQTtkqv4447rrbe//mf/y/WtaiMnsT/5fEno8z5jy4o1OOkk04KP/vZvx71/Nw//DHmvf2OmUc964kueXk+P/RlOPvsEbH83bvf77Vy8sru67jRoy+J9nzv/Q/aVk/IBf3jlltvK5QpXH38yefd0owfPyHmJexrW/R2eX+eNz/WjUVju8pi4sXWw4efXijzjjtnxjQvrnmpW5rd7+6J8eR/+533uj1rl37NyBksepbVaShgn/kBTCyuWHjVqWuZrfKeMb4zV1133cQGHll4n3babxr3efmGelwp6YPYQdS+n3Bx+GrrlvDFx5+FL3dsD9/dNS162zBOXdJ35KKzGqRNZC4a99DhEI4ZFsL//h/hry+tDoc/3B/++sq68P3Ey8JXm7s8iEdGnx3zfv34onB474fhyze2RB2+WTi35cabOfPuCMp2eieaAc1gIX2QKjrvOeecG266aXrjuvuee2u3gSbnZuxTlbYV0rf59a3hoTkPhz17PqxdhyJ9nnp6ZZg6dVpYvuLxbrKQj91e27SlW3yRnMEcf+yxx4bjjz+hrfUsmrxlpzKi8uqG1wLep70f7G9ZJ7yFtG+eh0u69GU40Ag27QDWV7+wpmVbr1v/ahxfFixc3GNZGmuyC4F26tnb7T0UsM/4jMPgs88Pl7ZlVV2btfUnnx6K4y5j75lnnRXL1lgxFBeBzdinkPR9tWljF+G76sLSxqpD+g7vP9gl64YrQvi3vw/hN79oyDz8wb6uZxMva8RlKxDznPBPhc+z6evcj7n8ijhBAQouViQnnvjv8dIEzYAxadLk8POf/zz85Cc/ieBJtwJnzXqokYe8bDWyXYhnKV3ZsCrnOauOESN+H9hWlI4ifXP//Egsg3IoU8/rhJAw5FMO+bMyVqx4Ij5/8MHZsc7o8Yc//LGpyVCkjw6cp9NVV10dtzBZRWEvyA86cf/mzq7jABqIH3/iqWgj9Lzm2usCHVQyIWJnnHFmtBVtctttd3QbMNi2wRMhW7IdRfvJ04dnDc8dnj30YCLKevp++7vhUTf049q4cXOjfPSosidp2DqkLdGDstDh3nvvD2xxqi4MdDyjjorLhkySj8x/LLz19rsx//0PzAr79h9opIeQ8jzVcc3al2PcwY8/DdiL52tfWh+9YXisn35mVbRbKidbbt497YS9pk+fERislWbP3n1dZaxdF21LWfQRturf2LYjpmPRhA0mTLg66nLrrbdHwpW2LfKKylBZ2BU7sh2Px0iY0eSNTcEWOj755DORhFGuPIH0QeyhCzIu2YT79h+MzyAW2Gna9JujvmkafuOtZBcALFAXsAqhXb9+Q5RHvbADi0Yw2izZQY8FCxbFrdJ58+YHjgBIB+KRx7EEjkTgRcMez6x8tpFGBHvb9p3hvvsfDCy+sp5kbIWNaCdwld3NQAfGHWzH8Yi8iZc6Un/s+cGHH8U2Tj2BjAeyNSHbzqoHIWQZLIFT9OCeyTdNwy4H2/ds4z/w4KygulH/NF3Z71b0bLUPpX1UerDYyGIfbDJGs3jIekqp22DBflk78ExjmnDB4iubp6yumzZviZhKt4SZd5GnuTkrL3vPGMm4wKVdHnkT07mZNmEez455yGNso0yF9BPNZWl5jCX0P45FaHxInw+034Wk79tZMyMZ+3Lb1qMaLK1EHdL37dz7oqyvXt/U2C4+/M7bDbl4+aJH8bpLAmQzlc/vI2PPj8+P/P7keLbwi8ygkU1f557BnnNWcj+zBcc9lxqWswiA5pRTfhUuvXRM/M0kL88BAxjpNemTjvRMEAzc6MFgprhLLr0sPkMGoOe5SB96QJzIS3qAX6cedWQwACGTcpmUmby4hwTWLUOkj4mQSUiXbIH9kIl8laXtNToV5WgC/+XJJ8e6og9pmWx4DrkgDhvQCX996qnxeXrGCJJGHogc8mUvkT4IAc+5xoy5PJJOZKrjUw7tSrtJVkrUeF6nTSgfuXT2yVOmxvKyK0gmUvTgzBly8y7pgH6yB6G2+/O28f7jP/5vTAvBpY6UITuAI8kB43ll5sXRRshhwiXkYnIirdpeZZBG6fD8kkZ6Uh+VjwzO1Km8sjJIA0FR2cjAxtyLZDCJsiBQGkJhRJMoBDt9TlurfEIWQDynLqmeqccackUa6oit+a16IgPsq8+rL5Gmbn9CV5UvmzJ2IHvnrrdjealuaRmkEcHWYpSyuUjHc+ko3aUrMrX1yhiXxqf2FsEGP5LNc9laBBuyo+cKJR8d6M/Ek5dLaVgsSc+du96JevCcBSJpsEkz5wJb1bPVPlSFffopfUl1kx3SbcfBgn21W1mY4pW6Zj22VXVlgUs+8Es5kHLhD1ywuLlx8pTcS/MuCzFkjBo1OoYsNLSoof8il0WI2kJh6nChfYhXX1Wal9e9EvOzqBIvoC/qeXahWWar/nhWSPo4LwcRqyJYdUhf+D8/DeEX/xgNxYsfyP3u9hvjPZWOXsWf/l2M5xnn+75Z/EjjOd7AI6ef8MPzY4aF76ZdXalbHYMCHhoru72rAQuCIjnq3Hfd3X1LU+QGUpMOeuTTxIU87lmx4InSpC6CIaIJYNAH0KrcqrBKhkgfqxZk4QGiDCbQKtl6rolfwFYo1zmkTxMXxEMDO51Vni6Rvvf3dJ35ovMiR5MV5I77dLUkMoQerPx4LhJAHJ4B4kT68GByLxIAUaDTIkd1UYj3hLRFpK+oTYSNlFBAduj4kk2IRxP5eCfTeP2WHOqPZ4mXPIQX4Si7jae2O/9PF0SZ1Avb4/WjLAY58vK7LgkR5vC0MJDhAUIudkNXJkV+E09/4BnEgPqiH2mkp9qBgREdwALPq8oAE2CFctT+9BNkMDgjA68b99dPvCF8uO9AxDF5iBNRYYKlDsJrdsLRQM7iBZks3MivtqRfogPtgBzSUGfZgnuwTR4IGvfkQVfsw33ZhUcXnekLpKeMCy4YGeUxNkhvvAdTptwU4/FGoB8kFNkah3hpAnzjXaNN0AkcIZO+SHo8geTB08dz1VsEjkUpEyIeKp6rb7EbwT1jBPVEpvpv6tUknovys/gXwQYbtA+TLTLTdDpXi13QU+Nx2YtZqX3boSe6t9KHqrCPvrSlyABEV7bl2WDCfmr7ot/qg+ymUU+NZXXrSjo5EegP9D3wrP4FaQRDeRfzAfnBLeMqYyA6gGHwq/EIDzrxzE142WkDLZjRHxlakDMeESeHhsYULfbRh/San3AocD9Qr0LS993UqyLJ4s3dMuWrSB9v60Yv3vWXxjd34/0v/jGEn/5dd7mfHw5fr3oyfH/B6Q1y983S+d3S8PYvZ/3C//ybmObIuD91e16mZ9EzDTJZ0qdB8Oabb2mUweAKUGD3qTyRPvKk8QCF9GUHR0XYRAJFBJhoU1llv6tkiPSlHic6BINdmdz0mSYjAA0506W3KumkmjCYJJnIyE/HlAdMk0YqVySHONVj3JXjYx7ykR8b0ilFotI3cbNn+pDHpMpEpHKIy6trFekrahMmScpQfUnHvVamKpdVJ7prQlO8Qk2KbFErjq1n8mgLjIlbpJg0Ik8MZvIKMYCxhUI+nq9a1TVha0Uq2UUh7UVeFgW0Mxd2F9HBdgzg2JR6TrpxchwoyXPnzLui7uipAZVystivKoMtXeSx1Sk9tTKHZEBuKBu9+E0abEQetYPyEXLMgmfphEM8A7nqxf3q1WtiOnmT2cohn/o9bwRTrhYx5BFmIdhMMhA04utcmiiQL1vjRaRMyB39XlglXphi0qP/UIZIRvq2MjZABrZh25rf9EGVQZsRB9aEFXYepLO2vkSwRcbSBYv6r/qF8oJvZIs4K14Em3oRp/bSQpE42gLM8xt8UU/szSJGcsrCVvVsRx+qwr70Z3udMYx+hr3AKM8GE/ZVlzohOKa/pmmr6qq06fYsY0czR1XoA9gXkqbxkrmPOOYUxib0ot3SYxUQRbCHDpqHmZOk04wZXZ5BnATscCGPsVl9TIuxNI/yDqSwkPTxsgVkjZcnyhSuIn3fTRnfIHHRi5e8CfzXdWtzZX/55o4uUnfWSbnPeaEkbgkfMyz3eZm+2WdFpO+551+IjcqZHeXRmZYskxfpg5goLaEGOQ3W6TP9FtHRQIoHAzC1QvqyMvJIXxERkl7ZEGCjV9GZvp6SPnkc6IgawKl79sK2y5b/JeqQnvXJkj46oTqu6lBU17qkL2tP5MrrxMBBeXm2kRciPZsinQiLJkWRGG3jMXgpnyZvtv/VJkwmqguDo7aSRByVNy/UQoZ6sDhJLzxJdSbFPD3ZksEmyKgqA70gAqRPB+GUZGgRpi1n8mSJSlq/vAknbyBPiSX5SUN7ctHPsQvEZMvWLuJCGkgo5AR9dV177fWNNkr1yP5mskF2amd+Q3wgOnUJdroQgCyhoyZYbI5e2TK4ZyEgD2q6CEztgDzyU0fpr7FM2FQ8oRY38oDoWZZg57UXOlEWHnqR6fTMlWTlhe3Qs9U+VIV99MYTRPtQT+oIpvjNYo3ngwn7ee2QF1e0EKiqq2RppwA7yZOmZ3hN8dBlL+JJI8LIm+30W2TI6wi2NDalfVaLSggmMvIW5BqP8Frr2BYYz/YzzkVL14EYFpK+w3v2NN6q/eKjo7cteMuWCpWSPt7M/fHfBrZ3v1n22A/XkvndPHWHk4PryPzi08+jN+/Ib4+PZWSfk+bIiF9GGYcSj05PDFxE+uSCT1f4IhjpxEOZRaSPZwziDPLafgJcyJGudUkfAxwkIj3MXVdGM6QPgkLHEAlVGRoc20H6sAFymeDpkNiIe7btuNfWLHF4CZiI+a1J48KLLm7Yj4mGPOhHGnVMeReIYzJUGdzrElEq2t6VDfJIHytWBnDOgLAC1JakZBNqQoCspvH6XTUpLlm6PNZNWxbkIw94giTX8QqprKIQvbEfZFJp2GaG7HGvdi8jlnjnkCGvL/l0lob/01VVBulpI2RIB7ZyuBfJELFIj1boLFe63Uj+ogmnbCBXW+MFYxDHm4Z9Oesn/CEbzOq8GURIXjPy8By9U+Kq+iikTumYQrxeDqtDsDkLjAyInWTyMgZxnIMlTtvPqR4qg+d45EifYlbkCzvIfizkVIYWwfIEKp4wz6tah2CzFY03EsKHvVlIpeQ6LSPvdzv0rNOHdAYsTwd5d4qwj470V7xIWoTpHJherBks2M+rf1Gc+mt2IVBVV+SBS2ym3QFsp3LAFQuevIu2JJ3O8+EoYCwD67poS3n9OM4iufJAirBVLcgZF5CJJ1EyaOt0bODMq54NpLCQ9KEk/4xZZ+y+fWRW/Jcq0QP4q5+H768ZHSsk0vfdbTeG9Pr2kdlxu5b83f5Fy39Nukf+eFoklV++924Mvx8/MvD/+riOnPebWC7bvejBecAjZ50UvlkyP3z9wqog7+F3U34Y+HpqVM640HgABXLExWCEPG2ZMLkw+QE00opQMOCTXltykAjuU2ImADKAsrLTmTP9U9W6pI/0Am46gKNnlQx0Im+6ss/zfomEkTb1plGGJn8Gad7m03XffQ9EWzXj6WPQYxVGHsqSJ4s3s7hnm5BtKC5WyNoOgjhrxQxZhxSRljwifTq7xIDBwCOvV0r6GIiwidoCWdxrm67KnvJ6MBgx4UJ6GPTxaGVxCGaynmHS1JkUqT91A18QFhGp9Dxf0bYrnpusLnn30gPvA21OXSCW4IP0dSZFtgnRE08tempVDQGHnFaVQTnqWwy2yJAHWCRDL+jQ3rS1Bl3KFWGjDZiEdfYGIsG9jl1UDeToAU6oO/kohzN/IsCQf8rnOTqyWFBZYI0tHyYrLk3oWZtjW3RmwgG//N8w7pmM1MfqEGz0wCYQJcqjX2BnylM9qT9pWJhQhhabeEi4p//xXJ5BEWy9oIFc7My4pX4ngs0YiI24wA5pdU97YB/KAMOygRZkai+wRT7SUHf65SuvHv0in/Jnw3boSXuX9SHaiXqki6JUD2zM8yLs67gAYwpkRv8ijHrLloMB+2mdi37TP4QBxkbswjxBnM5HV9WVORXbgEVworm17lEVdKNsypGewi59hjgtnEgD5hhjKJOFjxwSVQtyOYDwhjPuMPcj47rru/4noMYv+oH0GChhKelDya+fXBbC//pvXeRPW7M//tvwzWNdb2TqhY/s1m044Z+C/jdfnqeQbWPyfDt/djgy8ozu8vnfgMm/cIHcxf/lp/J/NCy+2JH31Y5mDctqQCtjQMqlFTDMXcSPeMDDQK0yWFkrTxqmK3mAy1u5eo4MiKBkaCLXQCgPh857KB2DoWRkJ5QsScnKqEv6UlLFZKeyCTUhSQeFDPg8p86aNCBc6Zk+6k8akTxtLyGDtOnZJDyJ6qR6zsApXVhZ0bl4Rjqds2DSJQ0rO5E50uDVyBLcVD5pdEH+kFFlT9JAvJQvDdOVH+l0kFgLBeK4dD4xnRRlH2EB/GnQo87SC5k8o1wmZL0lzDaIPDJ4RVVWVai3alUP9MDTTT5NipA3dIBA6KUREUvSMIDypq5kQGZEQpBTVgbPqYfyMuCKOGpiBNN6G5V0IvPCnIilZKShXl4AB7S97AHJJ52IJWQ+LSOVobft8QSk+AG/WiDhjZf3mIlO5aSh3tyVbHTiXCFp6PPYkt9gWOf5mIwgTMRDlMgrzwS/sVf6ryxYfKCXykAmiyHpwdGAtA/JlrID6UQEkYEuqSeQ5yKWKkMhtgEr8toL99qKVXuVyVBflr5lYSt6Mo6id1kfgqyAbY1zWV2IL8M+mJLtKAu7yd6EyBss2M/WPXsvoi8spKEcFWV1JQ24BLvymGmcBIPZ8vLutSCXI4E0ImDsyCmP5g3pyDOOb/Fcx7gYb5VeZF3jEeRQHltkoDfzHPMPeUhHPIsCyRgoYSXpk6Js9/513Zpw+O1d4dChHw7J63mr4RcHPglfbdkc/zFz3nYu27ic9UMHvIOtltdMfiac7IHwZvKTFpAwUTMgNptX6ZnY6h5wVp5mQ7x9+jcszeZtJj2dQx7VvHx4PtLtqTQNHbvKltiKlWear12/dVAekoW3gUtbEinhpzwmOyZvJuai+lTpRV17u92xKUSPsEqfsufYoujQdVUZ2Cd7LjZbFrbQajz7rNV7XpygnSiDevB2uTw9TD6pfNIwLqRx/JZHknND2WfpPeNJT/EgOfSh7P/m0zNC+gBXGqfftAWkp2w8KmtLyelpKHIM8aYc2p0FExNl+m8z6sjvTT3pv2Aiz1uv4xsiGGV6UD8d8cmr02DCfp7+zcTVqWsz8nqalvZodcyjDzIWZHXQOWZtF2ef9+d9bdLXn0q67B/OodkW/W8Lee/wMkD8uHS+LPsGI+0FuYX4sU2tFWxftCNeCK1k05BVqbyJfaHHYChD5zaZ4DnTyhvQeAg5g4Qdq8godcTLim0hNIOhzv2pIx5ObIWnm6MreIDwZuIpZBLVOcUUt/rNlmFf6A4pwMMEBvLO9eHNRad2fgqvL+qVLaMO9j2W1J93WEyxlQx2WDRk7d3f9yZ9ycH+/m4Ml1+/Y/WnrVjd8eYX22ZMXFxs8Uy8YVLL3pt21QvPIFsYeZe2O9tV1lCRw/Zm2qYM3GzZ1PXyQ/oG4hmegdg+2EnEj/6D3TkSwpku9MWbnodd4pp52aOVuuNR5h9RF+18cEyHxVzZjkUr5fdl3jLseyxpbl5i0cJZ2IFI+MCUSZ9J34BbifTlYOeymhvQbC/byxgwBoyBwYsBkz6TPpM+Y8AYMAaMAWPAGOgADJj0dUAje1U2eFdlbju3nTFgDBgDxkC7MGDSZ9Ln1Z0xYAwYA8aAMWAMdAAGTPo6oJHbtUKwHK82jQFjwBgwBoyBwYsBkz6TPq/ujAFjwBgwBowBY6ADMGDS1wGN7FXZ4F2Vue3cdsaAMWAMGAPtwoBJn0mfV3fGgDFgDBgDxoAx0AEYMOnrgEZu1wrBcrza5BNrrX4GDRlln//qL5w9v/rF+Nk1Pr3GxUfV+0uXdpe7bfubsU51v8nMZ6SwAV/LaLcuefL4R7b8c+ubb74llstXb/LSDdY4vuErXBHy7eTBWpdO0Bs8Tp8+o1ub5X12cTDawqTPpK+pwYf/NM5/0NfH4AE9n50iTh+sHowdoT91vuba6+Lnp1r97m1v1QGCdt/9D8bPkelTWHxiqJlvxyIDnPDlBWSAlzvunNkU9nqrfpLL1zf0RQ50nDV7zoDST3r2JMTW1OnFNS/VqlNff2LsuusmRv2wPxdfvOlJPXsjD5M9eM27sFOdMvnMHPXS58z4+kidfE7Ts4X28OGn57bXmDGX17L7G9t2xPaizeg3fB5wIC5Ue4IPkz6TvlqdQOA644wzYyegI+gzM3wzk09WKY3D5gYqvu152mm/GbD2G3fl+NjmtP3kKVMbE9fDc+fV1plvEoMZwlmzHorfM+V+0+YttWX0Fa4mTZocdX19yxu9rhufuLr/gVlh6tRp4d339vZaefRR7M33ZOvYcfToS2L6vvjEGPVGt0svHVNLtzr6tzPNU0+vjPrx7ewbJ0/pdu14862mdOY73dR1KC0o2mnrdsiCpGNj5qRse6169vmm2kvfJR5KJL3jSd+CBYvC6hfWxE7IaowPa+OReGblsw1w4NHgng99s+2wZ+++xjNASr75jy5orAQgQwsXLQnIFjGqAvOSJcvidtLm17cGvoPIfdbzw/3yFY/Hb1I+8OCssHPXOw09WIU8Mv+xxsWKHvCzRYV+6MzztWvXhdvvmBnWvrQ+vLZpSyyLVU2VfjxnW4/OpItvDKIT9+PHT2jIKNMTOXXqiu7Yj62QefPmN+VVqiNf9kA+dkm9VmAgteW27TsDH9FGLoOG8rZiyw0bN8Uyrp94Q7QfE4rK5Bl2WrBwcXj8iacadiVu5663YzoIyZ49H8bfGzduju0JPiFi2e3XVmzJViyEYcKEqxt63H77nVFnMIhOVRd9B4yAa6Vl0iOOfqK4spA6gdmZM+8OfPOUPptNr3aBQCE3bVPSbn1je8Azw/Myjxde7KKVPdt0D815OG799HT7lz7OGMNWJp4HSD/foaWOEAzhYMnS5XH8YNuTOOpHParGI9JgK/BAPjzw2BrvR9ZmRfd4pPieNNjHy4uHf/fu9xv5q7BZJDeNX7psRdRPXr6LLh7VqDtjSFU/lKyqNoGYsZ2KzfmOMn1q0eKljbpITlEIccB+ZVvjddoE+WULijoYr6prUR2Ir5LPPME3j4vaHBllfahuezGmgHO2T++774EoM9WbORNyzHjBgoixN31e9VskvWwnoW57lZH0KnuiZyvtVVXPnj7vaNLHBEpnxm1PyMVAp98YlcmVQZk4JgI948yLjM5WF/EAhDh5Rhi0laYsZDAnv7YPVMaIEb9v5KcjsnJROoUifnhMlI9w5MgLG/r+8uSTIyklXnVgUNdWwznnnBvLodNnV0a6ZzW+Zu3LsQx5AZh4GQiRu3jJsiijSs86dWVCRk/sIX1POeVXDVu0akvaSW2ukIle7nuIfWrLceO6vFTEYQ8IfpUty3Tk2Xnnnd+tjLQ82RLc0UaShX54BNEZD4y24E488UNpWmwAABc3SURBVN8b9UHOhKuvaeSpsmVVm6vsNIQ8UE5dT5i8wwcOftrQiwkYGSxiUtl5v5lMtM2S9s/03FfaprIlOEUedoPoES888RuykS1PK/vz/3TBUc/wUJJP/YbfyM3KKLtnIiMfbaZxBVtIT+GRNPRbcMlvLsh7nfFo2vSbG3mQ9+tTT433t9x6Wy1dt+/YFdOjX2ovbK+6VWFT6YpC6qJ6ZUNhvqofIruqTTRpUwa2gFzzWwS4Dv5pB/JARPPqU6dNlK9oQVEH41V1VRl5YZX8qjav04fqtBdzhtpC8xn369dviLZFT2FefZ52g6xTLxbampOyIQsd0hCPzCKS3kx7iaSzUEvtWmVP0rbSXmlZ7f7d0aRPk/e69a+GKVNuikBhJcMWlAYeAMKkzyCF8cdcfkVMBwFSYwBYQKbtL35r4laasnDFiidifiYptl8AFDIYWMl38OPPIuED/HiB6IA6o8NKSbJZIeG5Ii+DNZMJnYxD3HgUiKMeDGJ0KMqiDE2OeJu4z150TlY1eFiQjeeBEPtJD3Suo2dVXfEeUk+8S+hKnXCtUx5toboWhVXyt2zdHmUxEULc0fnc/yLt8rBhX8qFYFEuIQSLQQWyVceWRfopXmVA7CmDlSdlcikNZJxn2pKb++dH4j1eFtKIfNMO3L+87pX4nPbivo4tq9pcuihUe6eePz3LC7V1B8kFNxAHVuKc2aJudbZ3ZSMWaZRBm+GtVp+kzyILXPMbrFIeXlTpRP+mXO5ZKJGe/qrnCkUSGLAVRyjvAf2LNqJs+hB9Kk1X9ht8Ua7Oq8lLPmrU6IYMZPPyBOm42E7Hu/zKqxtjmqrxiLSqG/ZCnrZ287yjefpqMcG4hy3pJ5qAtd1bhc08udk4dOMCr4y3uqdvkFZ9pKgfVrXJ+3s+iGMJbSRSAW6wjwhwFf5pZ7UFY4YuSCP6omdVm6jeZQuKKoxX1VVlFIVV8uu0eVUfqmovsMTYzhjAb3TFi8ccprws7sECzgOe4+nD/rMfejjes6DJzk+6Zx4nj0g6odqLUMStbnshq4ikV9mz1fai7N66Opr0MXkzmGFcBjEamN8Aj4FSRmeSYcJftvwv4eyzR0QQMqHqOaG8GQC07paV8mt7gwmLOE0GDEjcs82JXDqA8ghU2bfANEC+uuG1RlryUE8IKwMVHW/SjZMj0UDunTPv6pZWZWRD6kiHhaCQD/c8dhLJqKNnVV2Z5JDN1hdkhksTjOyT1Su9r5Kvs2VsiSoftqDM1GZ4pYhjANr/0ceNtORphy2Ro7agzaRLGkovtt+ZbGk3bKE06CbbE8fAic6S16otVQ4hfUC2A0dFXo80D79FwvECsEXIAA3Rk3eyjhx5ZyBHbClrcFdZ8qyLtCs+GzLBsLXHlid2uvyKsQ1bKm3Ryl4TCXmFS+rSDOlj651yV6/u2ppmK4177KLyCelXxKf9PX1eNh5pAcNCT3lE+sinuLJQi4n0jKG8u5qsq7BZJj99pkVB0Xm+sn5Y1SaMjdiR4yEqU4uWsu19pSXUOAtesa2udEFBurI2kbyiBQXPqzBeVVeVURRWya/T5siu6kNl7SXSyzjGbgREEw+jdFZ/YJGvPiaczZkzt5FO6fNCkXTGRrWVQs7PKk+d9pK+eV7/Knu22l7SszfCjiZ9VZM3k7K24UirhuR32hikA1gMMIAhfVbnNwNKOnloy1RnoAAdsnWmB5mcbSKOQUllqMNBTBVHqG1stjIgNsq3alWXVwAPEYMgb5HmXTxjsCefPDzoyxYycTrPV0fPqroykTIoQFzS67e/Gx7STpvWL/1dJR/ZpEnziMinbx/z7zuo2113d5+Q69gylV32Wx5iVq956Zis0AEPGYMyuutYgbZj1B7kZyVLejw03FfZsqrNpRNyIfvIZqBWfJ1Qk2y61SKPJGStjgw8VCzEKF+XvGXkB4sp+c3KZLIlDXnpn0wI/KY/ZNPmreyxOenJl2KS37J1Vk7evTx46EpfoT0ZU1hEpemRy7MsIa4aj3iOnulRCC0gtZ2ZllP0m3rS3nqOXOwHnhRXhk2lqRNyThadIdN56Yv6YZ02YdGM7NS+IsB4z+vgv2qrsKpN0joVLShIU4bxOnVNy8n7XSaf9FVtXrcPFbWXdMJjB/5pF104U3hOXyIu28e4Z8zgTGne/EScxiWRdMYdlZmGzbRXGUkvs2c72ivVud2/O5b01Zm8tZ0JkDE8hzIBJZ4ONQQg0ioJMsFzBhM9rwp1xo1DzEqriRJgEacJT5MAgxiDMJfiSKcOl/UcsGpCL1ZpOkvFYVqdc0IGh74Z6PMuyInO83H4OtUJudrKrtKzTl2Rh+tctiBMt3XxeGHz9Ll+V8lndYd8XP3Kw7YZcRBYxRHK26JtIT2rY0ulrQppJ8qG1OWlFfnHC0I6DWyk5TdxqVcZTxhxwiu/y2xZ1eaUo3M6tG26Ks/qi+15YWPvB/u71eWmm7qOG/DSkPLoDCxxYI8XUvQsG4J1eVpJq0ULEwFptRhJiQ4YEWa0xY2XWn1F9qQ/pOUVrexFzvE6KD0LLMYQ3dcJOeML6WSHgYUSWJLnTPm1cMu2G8+rxiPqSpuniz4dxdACUuUUhbz0gIyUzOpYAX1C+cqwqTR1Qv5NDuUxtualL+qHddoEkopsyZUXSAS4Dv610Bd2JEthVZsoHWHegoL4KoxX1bXVPqQFZFGbN9OHitqLetIv2Y3gNziX51uLXm2ZpiRd/Zg8jC958xNxehu6iqQ3015FJL3V9qIuHIci7I+rY0lfnckbIsagAdhWrnyuQb6YNJjcIB8M4KRhhQFJ43e6NVzVqNr+St3XWo1qO+aSSy+LcgEhk7y2kuXlYyKEBMjTNvGGSfFez+tuY5fpqs7CORnSyTbUVwCu0rNOXUWcOTvFJClPK2XIM8lArMEj1bmOfFa0eFHYJuQtTCYGyLMIADbDltKDduFeW4ftsKV0pp2wH7pQBldaLzDGcy5t9SuvFhp4mKm3zpqCHclQHfJsKTllobZWsNeMGbfGhQETJVd6vAEPLHZFT7blU5ngVfpjS02iSgcB5zl1SPPxGxKGVwCixHMOcePZJD1HCZQezztx6EgZtCn5IFRsjfMMvDJ5ykNOnbSoYkWP7VVfMMc9202UocUEdWRywcuFbZvx6otMXXjRxdGrxfhDnVh8UQZeDMoUSWYC5J5L9VSfKxqPIM/UlbqxoMCTCbaJU10lqyiUBw/78ZIN+iAPOdhB+cqwqTRFIZO/6qa20z3PyFfVD+u0CWSAunPkA1sLa3UJsEhi2Xhe1SYam8EluqATdcXO1LMOxqvqqnr1tA+hD7oVtXmdPlTVXhzJAEfgn3OnXJBv4jhnjS10NIexDeyJdDXzlrzGlyKSXtVeeOmEReyBXVj0EAc229FeOnefLiKL+kpvxHcs6eM8j7Zp8TzoPB8eBHVyXusHlDQ8EwmTgAZR2D6rdZ6lr/8zERCXnhkrazj9yw6dV4NIkl+rUfKmb8TyDDBqQuK5XnTgWXrpLU7qCSmADFAfOhMTNWmL3OBZnbEJA5biBVx0UVyVnnXqipdUNkY/7KkzUHh8tKWsg74qm7COfAYntSnyIVOyPTLSZ6kttQXRDltK56wuqS2VRvroLW3FazuGNpaekJV0Yi6zpeSUhfKUSH4aivyTXx4mnme93Ay+ajOe07ZMgCpXCyUGesWlIcQ8xQODulb1Spe1I54u/XsRyqdPS3cmFnm49eatbKw0CkmrMvQmnp5RRrZNlDYvlLdE+RVqDNK/sFG8wrTPVY1HlKstMvIzrqnuWkDm6ZbGaRGr83DIgeCmnlqll92asQN5RTJUxzQUfiU7fcZv9UPkVLUJpFf5qYPqVpcAs9Anf9kYWdUmWrRKD4XoIzvWwXhZXVvtQ1pAFrV5K31I7YUMnb2VDRh7tSuBLSBcIm2koW8UnWuV7dKQOZl8mr/TZ/pd1V4swKVfNhQ2W20vvNr0a8Zw6dWXYceSvrpGxluQHmium6830qGHgNcb8tslsx168op+6uaXbpzfoLMwiCiu2RBijWePLYZm8/ZlerbSGXiyJEfbMTrPh4dHHqM8/YpsmZe2p3GQwDJiQVuKiKVl6PwLA2kan/0NacLzko3XPQsa0mS3S/Uc/fQWtOKaDcEcBKdZ7NE2YBbSQVtxsTWss6RlbZfVsc54VIWHrMyie/pHXpuRvgibRbJ6K76qTcCdFiiQAfpTGU57omedNqkjtwrjRXVttQ9pAYmOZW3erj6E17usDzHH9eY819/txfwD6c8eKaqDkXakMenrxX11raCyKwbu664229HIQ0UGbxlju6w3aSDVjwE0r73xXNSdbDjszFknPFxs82m7VvWUp0TnKxU/2EKIN95NPFIMhINNf+lb1eZsT4EJvD5sJeOZFJbLvBKS366wSs865VRhc6COeZAM2iDdQalT34GeptU+lF1ADvT6Dnb9WHgy3rGLomNRfV0nk75eJH14LzhnlHcNdC9TXwOxTnnYU/9rqU76vk7DlnleWxOn/zNVRyfO6fG2Muep8t5Y5nwlxxF0/qmOzIGYBs8GZ88GM+Gr0+YcS+C8q7apCWk/zpYVeSbb3V519KxTZhU2B+qYxxEObN5MP6xjj/5O02of4pgQdkmPC/V3nYZy+fR3/kdk9oW3vqyzSV8vkr6+bEiX1T9vQtnutrsxYAwYA8bAYMGASZ9J36DdVhssncx6ekIwBowBY8AYGAgYMOkz6TPpMwaMAWPAGDAGjIEOwIBJXwc08kBYXVgHr3KNAWPAGDAGjIH+xYBJn0mfV3fGgDFgDBgDxoAx0AEYMOnrgEb2yqp/V1a2v+1vDBgDxoAxMBAwYNJn0ufVnTFgDBgDxoAxYAx0AAZM+jqgkQfC6sI6eJVrDBgDxoAxYAz0LwZM+vqB9D08d178Rib/tLWZDhA/gD5teu7nyZqRM1DT8s+G+ULB2LFXln6mZ6Dqb736dzCz/W1/Y8AYMAbKMWDS18ekj0+v6DNdfBO1GYDyvT7+m39VHr5PS7qy7xsWyeA/7vPJsPRj83w+ig+3F+VpZ/y27W9G3flOaTvlWlb5QGD72D7GgDFgDAx9DJj09THpg4jxqaKqb+/y2aT7H5gVpk6dFt59b2/8ADVk8aKLR1WSIb7r1xOSxidiREjPPOusWI6+WTl+/ITKcts1YDz3/AtRD75Z2i6ZljP0BzO3sdvYGDAGjIFyDJj0lZA+PnT/yPzHGt975QP3bLECqk2bt4T5jy5okJJ9+w+GBQsWhZumTQ/z5s0/agt20eKlURbyuN7ZfbSXj+/K3nPvfeHmm28JeLogbyeddFL8PueKFU9EIvTAg7Nifr7f9+bOtxrlb9i4KcZfP/GGmA7SprJ4VqcjrFn7coP0/exn/xrzvPTy+hi3eMmyhgy+Yzlr1kNh+vQZIUvM3ti2I5arMKun9EB3yG+eDNKc/6cLwi9PPrlRpvI5LO/Qto/tYwwYA8aAMVCEAZO+EtLHGTM8X48+tjC8vuWN+JuPU2NMzp5x8fvFNS/FLUm2RfVR9VNO+VWDsOzZ82GDTMmTlt3a5ePrPGMLF7LHbwigGo7tVuKQTzmS8/K6V2IatmAVlw0hbLt3vx9unDwl94KsUs5tt90RZYwaNTqGePnuuHNm/M22NGmkZ1rGpEmTa+uJDAgj+Y899tgY8huPpupKCKEmXuWmz/zbA5oxYAwYA8aAMdA8Bkz6Skjfqxtei8Rj7dp14aqrro6/IXp46SAky5b/Jbz19ruRhBGPt++zzw+HCy4YGZ9DFAVK4rnwoEHqFE+IJw551157fYzXlirkS+kgg6RZv35DwAM5YUKXPgsWLo5piEP+iBG/j+k+OvBJvCcOGU8++Uwsl7KzF95D0pxxxpnh+ONPCA8+ODvK2Lnr7UhsjzvuuPgc8osOnBlE/vt7Pgg8g4RSPjKq9Hzq6ZVRBh5RdMNm2CR7VpHtb9VXNnDYfAe3zWwzY8AYMAaMAWHApK+E9LF1CfGQl2/kyAvjmbq777k3khTOwE2eMjWmYUsW7xTXOeecG+PYBpWhCSGIyOPt1DSet3mJX716TYx/+plV8Z5ySLdn7754n57nmzGjyzMIIZUsSBQErJXzfJBJEbOVK5+L5XKeD1IHWcQ7B+FTmRBFyqyrJ1u21JWtZ9kLuVnSB7kl3fOrX2yUpTIdegAzBowBY8AYMAaax4BJXwnpmzV7TiQebLNyRg5ChJcLb9jEGyZFMgJhEdGCbOn67e+GB17GSEHJNipERt45PXv2udUxHq8ZZ9mQBzkSudJ5vjlz5jbk4VlE1seffN6IE1GaNv3mRpzKmDLlpqg7+qcX8aTReT7OLW7Zuj3KHnP5FTFke5jzhpQnbyR5IL3SlfsqPeUhhTjKTgrHjetOhEV8U2+p6uKw+Y5um9lmxoAxYAwYAyZ9JaSPc2YQMbYf2R7F08e/NIH8iIzwmy3VtDPpWRrH78uvGBvzZs/zLVm6PL6wwcsbeNXwgEGolF/n+eQ51Pbv8OGnN9KQFs8g+vD2q/IS4imEqOZd+tcoOs/Hlu2Bg59GOcji4lydvH5sy0r2vffeH5/zQgZxVXqKlE668YczgJTFNrJkKmTLmbKb/V+Gyu/Qg5sxYAwYA8aAMdAdAyZ9JaRv9OhLIvGA9LF1ylYmRCR9SUNn2CBDkDe9UKEXECBqf543P154uPCM6f7gx5+FHW++FWVeeNHFjS1PPGb79h9oECHKSLc/9UYtL1WkgMb7iH4QJpWhs3ZpurzfOs+nZ5SHLJ3nk54QRzyVlC0PpwhqlZ7apsYOeFF5y5k8vKGschXiAdS/jVGcw+6d1/awPYwBY8AYMAaawYBJXwnpw5MG8dFbtJAT7iErMrLe3CWeizQ6m0caeb/0XCGkCkKmF0EUrxCiSf4PPvwoyk3P882ceXeMy/6vP87iQcQkQ4RNuhaF8hyyfa00vz711Cgn/f98Okco+TxDv2b01Ju7knH22SPCzl3vNMpFFjbluf49jnRy6MHNGDAGjAFjwBjoOQZM+kpIXzPAYstWZ/Dq5sObh9eLLVb+rQsXW50QIUhP6u2rK7O303GGEJIGUexpWeQtksH2MjbJbpn3tCzn6/ngYNvZdsaAMWAMDC0MdCzpg1jI25SGeMrYdu0LoOvtYLaEOTOIp+7OmXdFvfQ/APtCj4FSBtu/vMDCVjP/ymWg6GU9htag5/Z0exoDxkCnYqAjSR9v1bJVmXfNfqjrpYS+AAQvKVxy6WXxvB7Eky1f/vkz5+V0Tq4v9HAZHgCNAWPAGDAGjIGhj4GOJH0G9tAHttvYbWwMGAPGgDFgDHTHgElfm870GVjdgWV72B7GgDFgDBgDxsDAwoBJn0mfz84ZA8aAMWAMGAPGQAdgwKSvAxrZK62BtdJye7g9jAFjwBgwBvoDAyZ9Jn1e3RkDxoAxYAwYA8ZAB2DApK8DGrk/VhMu06tYY8AYMAaMAWNgYGHApM+kz6s7Y8AYMAaMAWPAGOgADJj0dUAje6U1sFZabg+3hzFgDBgDxkB/YMCkz6TPqztjwBgwBowBY8AY6AAMmPR1QCP3x2rCZXoVawwYA8aAMWAMDCwMmPSZ9Hl1ZwwYA8aAMWAMGAMdgIFhwX+2gC1gC9gCtoAtYAvYAkPeAiZ9Q76JXUFbwBawBWwBW8AWsAVCMOkzCmwBW8AWsAVsAVvAFugAC5j0dUAju4q2gC1gC9gCtoAtYAuY9BkDtoAtYAvYAraALWALdIAFTPo6oJFdRVvAFrAFbAFbwBawBUz6jAFbwBawBWwBW8AWsAU6wAImfR3QyK6iLWAL2AK2gC1gC9gCJn3GgC1gC9gCtoAtYAvYAh1gAZO+DmhkV9EWsAVsAVvAFrAFbAGTPmPAFrAFbAFbwBawBWyBDrCASV8HNLKraAvYAraALWAL2AK2wP8H+3VHe91G5UoAAAAASUVORK5CYII=)"
      ]
    },
    {
      "cell_type": "code",
      "metadata": {
        "id": "tc5VDz_31V7H"
      },
      "source": [
        "import numpy as np"
      ],
      "execution_count": null,
      "outputs": []
    },
    {
      "cell_type": "code",
      "metadata": {
        "id": "IsR6G9Yppd7o",
        "colab": {
          "base_uri": "https://localhost:8080/"
        },
        "outputId": "4605aeb4-da30-409d-809f-70a7d0a0573e"
      },
      "source": [
        "# creating model\n",
        "input = v.vocab_len\n",
        "output = len(set(y_test))\n",
        "\n",
        "model = nn.Sequential(nn.Embedding(v.vocab_len, v.max_seq_len),\n",
        "                        nn.Conv1d(v.max_seq_len, 20, 2),\n",
        "                        nn.BatchNorm1d(20),\n",
        "                        nn.ReLU(),\n",
        "                        nn.MaxPool1d(2),\n",
        "                        nn.Flatten(),\n",
        "                        nn.Linear(160, 50),\n",
        "                        nn.ReLU(),\n",
        "                        nn.Linear(50, output))  ######\n",
        "\n",
        "\n",
        "loss = nn.CrossEntropyLoss()\n",
        "optimizer = optim.Adam(model.parameters(), lr = 0.001)\n",
        "losses = []\n",
        "\n",
        "n_epoch = 100\n",
        "for epoch in range(n_epoch):\n",
        "  for X_batch, y_batch in s_dataloader_train:\n",
        "    \n",
        "    X_batch = X_batch.view(-1, v.max_seq_len).long()\n",
        "    out = model(X_batch)\n",
        "\n",
        "    # loss\n",
        "    batch_loss = loss(out, y_batch)\n",
        "\n",
        "    # backward\n",
        "    batch_loss.backward()\n",
        "\n",
        "    # optimization\n",
        "    curr_loss = []\n",
        "    optimizer.step()\n",
        "    optimizer.zero_grad()\n",
        "    curr_loss.append(batch_loss.item())\n",
        "  losses.append(np.mean(curr_loss))\n",
        "  if epoch%10 == 0:\n",
        "    print(f\"Epoch: {epoch}, loss: {losses[-1]}\")"
      ],
      "execution_count": null,
      "outputs": [
        {
          "output_type": "stream",
          "text": [
            "Epoch: 0, loss: 1.8467085361480713\n",
            "Epoch: 10, loss: 1.412166714668274\n",
            "Epoch: 20, loss: 0.693393349647522\n",
            "Epoch: 30, loss: 1.3825749158859253\n",
            "Epoch: 40, loss: 0.5938098430633545\n",
            "Epoch: 50, loss: 1.2367278337478638\n",
            "Epoch: 60, loss: 0.19359037280082703\n",
            "Epoch: 70, loss: 0.18131624162197113\n",
            "Epoch: 80, loss: 0.7271075248718262\n",
            "Epoch: 90, loss: 0.5953967571258545\n"
          ],
          "name": "stdout"
        }
      ]
    },
    {
      "cell_type": "code",
      "metadata": {
        "colab": {
          "base_uri": "https://localhost:8080/",
          "height": 282
        },
        "id": "x3Q-o-kI1l7U",
        "outputId": "9aa5901d-f73b-4225-d044-85dd51200a42"
      },
      "source": [
        "import matplotlib.pyplot as plt\n",
        "\n",
        "plt.plot(losses)"
      ],
      "execution_count": null,
      "outputs": [
        {
          "output_type": "execute_result",
          "data": {
            "text/plain": [
              "[<matplotlib.lines.Line2D at 0x7f6a45ff4410>]"
            ]
          },
          "metadata": {
            "tags": []
          },
          "execution_count": 93
        },
        {
          "output_type": "display_data",
          "data": {
            "image/png": "[encoded data removed]",
            "text/plain": [
              "<Figure size 432x288 with 1 Axes>"
            ]
          },
          "metadata": {
            "tags": [],
            "needs_background": "light"
          }
        }
      ]
    },
    {
      "cell_type": "code",
      "metadata": {
        "colab": {
          "base_uri": "https://localhost:8080/"
        },
        "id": "eYqg_4Hp1omj",
        "outputId": "0dc0fd73-8cf0-4dc2-d021-6141b871a7b6"
      },
      "source": [
        "# Train Accuracy\n",
        "correct, total = 0, 0\n",
        "with torch.no_grad():\n",
        "  for surname, labels in s_dataloader_train:\n",
        "    batch_size = surname.shape[0]\n",
        "    \n",
        "    out = model(surname.view(batch_size, -1).long())\n",
        "    _, predicted = torch.max(out, dim=1)\n",
        "    \n",
        "    total += labels.shape[0]\n",
        "    correct += int((predicted == labels).sum())\n",
        "print(f'Train Accuracy: {correct / total}')\n",
        "\n",
        "\n",
        "# Test Accuracy\n",
        "correct1, total1 = 0, 0\n",
        "with torch.no_grad():\n",
        "  for surname, labels in s_dataloader_test:\n",
        "    batch_size = surname.shape[0]\n",
        "\n",
        "    out = model(surname.view(batch_size, -1).long())\n",
        "    _, predicted = torch.max(out, dim=1)\n",
        "\n",
        "    total1 += labels.shape[0]\n",
        "    correct1 += int((predicted == labels).sum())\n",
        "print(f'Test Accuracy: {correct1 / total1}')"
      ],
      "execution_count": null,
      "outputs": [
        {
          "output_type": "stream",
          "text": [
            "Train Accuracy: 0.9035746812386156\n",
            "Test Accuracy: 0.6885245901639344\n"
          ],
          "name": "stdout"
        }
      ]
    },
    {
      "cell_type": "markdown",
      "metadata": {
        "id": "LlqDuaqUvCJX"
      },
      "source": [
        "### 2.7 Измерить точность на тестовой выборке. Проверить работоспособность модели: прогнать несколько фамилий студентов группы через модели и проверить результат. Для каждой фамилии выводить 3 наиболее вероятных предсказания."
      ]
    },
    {
      "cell_type": "code",
      "metadata": {
        "colab": {
          "base_uri": "https://localhost:8080/"
        },
        "id": "yKzR4vpc3m26",
        "outputId": "70712779-6315-422c-c8dc-19eba01e9fc5"
      },
      "source": [
        "surname = 'Ermolina'\n",
        "s = torch.Tensor(surnames_train.vectorize(surname)).view(1,-1)\n",
        "\n",
        "with torch.no_grad():\n",
        "    batch_size = s.shape\n",
        "\n",
        "    out = model.forward(s.view(batch_size, -1).long())\n",
        "\n",
        "    _, predicted = torch.max(out, dim=1)\n",
        "    _, predicted1 = torch.topk(out,3, dim=1)\n",
        "\n",
        "    #values, indices = out.topk(3, dim=1)\n",
        "    #values, indices = out\n",
        "\n",
        "    pred = predicted\n",
        "    pred1 = predicted1\n",
        "    print(pred)\n",
        "    print(pred1)\n",
        "\n",
        "print('Top prediction:', le.inverse_transform(pred)[0])\n",
        "print(f'Top1 is {le.inverse_transform([int(pred1[0][0].item())])[0]}, top2 is {le.inverse_transform([int(pred1[0][1].item())])[0]}, top3 is {le.inverse_transform([int(pred1[0][2].item())])[0]}')"
      ],
      "execution_count": null,
      "outputs": [
        {
          "output_type": "stream",
          "text": [
            "tensor([14])\n",
            "tensor([[14,  9,  4]])\n",
            "Top prediction: Russian\n",
            "Top1 is Russian, top2 is Italian, top3 is English\n"
          ],
          "name": "stdout"
        }
      ]
    },
    {
      "cell_type": "markdown",
      "metadata": {
        "id": "uo-hf5CQ0iWv"
      },
      "source": [
        "## 3. Классификация обзоров на фильмы (ConvNet)\n",
        "\n",
        "Датасет: https://disk.yandex.ru/d/tdinpb0nN_Dsrg\n",
        "\n",
        "2.1 Создайте набор данных на основе файлов polarity/positive_reviews.csv (положительные отзывы) и polarity/negative_reviews.csv (отрицательные отзывы). Разбейте на обучающую и тестовую выборку.\n",
        "  * токен = __слово__\n",
        "  * данные для обучения в датасете представляются в виде последовательности индексов токенов\n",
        "  * словарь создается на основе _только_ обучающей выборки. Для корректной обработки ситуаций, когда в тестовой выборке встретится токен, который не хранится в словаре, добавьте в словарь специальный токен `<UNK>`\n",
        "  * добавьте предобработку текста\n",
        "\n",
        "2.2. Обучите классификатор.\n",
        "  \n",
        "  * Для преобразования последовательности индексов в последовательность векторов используйте `nn.Embedding` \n",
        "    - подберите адекватную размерность вектора эмбеддинга: \n",
        "    - модуль `nn.Embedding` обучается\n",
        "\n",
        "  * Используйте одномерные свертки и пулинг (`nn.Conv1d`, `nn.MaxPool1d`)\n",
        "    - обратите внимание, что `nn.Conv1d` ожидает на вход трехмерный тензор размерности `(batch, embedding_dim, seq_len)`\n",
        "\n",
        "\n",
        "2.7 Измерить точность на тестовой выборке. Проверить работоспособность модели: придумать небольшой отзыв, прогнать его через модель и вывести номер предсказанного класса (сделать это для явно позитивного и явно негативного отзыва)\n",
        "* Целевое значение accuracy на валидации - 70+%"
      ]
    },
    {
      "cell_type": "markdown",
      "metadata": {
        "id": "qyy-wwDi6uqg"
      },
      "source": [
        "### 2.1 Создайте набор данных на основе файлов polarity/positive_reviews.csv (положительные отзывы) и polarity/negative_reviews.csv (отрицательные отзывы). Разбейте на обучающую и тестовую выборку.\n",
        "\n",
        "- токен = слово\n",
        "\n",
        "- данные для обучения в датасете представляются в виде последовательности индексов токенов\n",
        "\n",
        "- словарь создается на основе только обучающей выборки. Для корректной обработки ситуаций, когда в тестовой выборке встретится токен, который не хранится в словаре, добавьте в словарь специальный токен <UNK>\n",
        "добавьте предобработку текста"
      ]
    },
    {
      "cell_type": "code",
      "metadata": {
        "id": "evjgTEM-vfbW"
      },
      "source": [
        "positive = pd.read_csv('/content/drive/MyDrive/datasets/positive_reviews.txt', delimiter = \"\\t\", header = None, names = ['review'])\n",
        "positive['mark'] = [1] * len(positive)\n",
        "\n",
        "negative = pd.read_csv('/content/drive/MyDrive/datasets/negative_reviews.txt', delimiter = \"\\t\", header = None, names = ['review'])\n",
        "negative['mark'] = [0] * len(negative)\n"
      ],
      "execution_count": null,
      "outputs": []
    },
    {
      "cell_type": "code",
      "metadata": {
        "id": "JREGFD8qsvc7",
        "colab": {
          "base_uri": "https://localhost:8080/",
          "height": 204
        },
        "outputId": "ad42aba3-c6ff-4ac1-8ef5-2d8776ba90a5"
      },
      "source": [
        "positive.head()"
      ],
      "execution_count": null,
      "outputs": [
        {
          "output_type": "execute_result",
          "data": {
            "text/html": [
              "<div>\n",
              "<style scoped>\n",
              "    .dataframe tbody tr th:only-of-type {\n",
              "        vertical-align: middle;\n",
              "    }\n",
              "\n",
              "    .dataframe tbody tr th {\n",
              "        vertical-align: top;\n",
              "    }\n",
              "\n",
              "    .dataframe thead th {\n",
              "        text-align: right;\n",
              "    }\n",
              "</style>\n",
              "<table border=\"1\" class=\"dataframe\">\n",
              "  <thead>\n",
              "    <tr style=\"text-align: right;\">\n",
              "      <th></th>\n",
              "      <th>review</th>\n",
              "      <th>mark</th>\n",
              "    </tr>\n",
              "  </thead>\n",
              "  <tbody>\n",
              "    <tr>\n",
              "      <th>0</th>\n",
              "      <td>simplistic , silly and tedious .</td>\n",
              "      <td>1</td>\n",
              "    </tr>\n",
              "    <tr>\n",
              "      <th>1</th>\n",
              "      <td>it's so laddish and juvenile , only teenage bo...</td>\n",
              "      <td>1</td>\n",
              "    </tr>\n",
              "    <tr>\n",
              "      <th>2</th>\n",
              "      <td>exploitative and largely devoid of the depth o...</td>\n",
              "      <td>1</td>\n",
              "    </tr>\n",
              "    <tr>\n",
              "      <th>3</th>\n",
              "      <td>[garbus] discards the potential for pathologic...</td>\n",
              "      <td>1</td>\n",
              "    </tr>\n",
              "    <tr>\n",
              "      <th>4</th>\n",
              "      <td>a visually flashy but narratively opaque and e...</td>\n",
              "      <td>1</td>\n",
              "    </tr>\n",
              "  </tbody>\n",
              "</table>\n",
              "</div>"
            ],
            "text/plain": [
              "                                              review  mark\n",
              "0                   simplistic , silly and tedious .     1\n",
              "1  it's so laddish and juvenile , only teenage bo...     1\n",
              "2  exploitative and largely devoid of the depth o...     1\n",
              "3  [garbus] discards the potential for pathologic...     1\n",
              "4  a visually flashy but narratively opaque and e...     1"
            ]
          },
          "metadata": {
            "tags": []
          },
          "execution_count": 5
        }
      ]
    },
    {
      "cell_type": "code",
      "metadata": {
        "colab": {
          "base_uri": "https://localhost:8080/"
        },
        "id": "S_l0jnkm6knR",
        "outputId": "80620d5d-88a6-4d6f-8884-09a8be57e104"
      },
      "source": [
        "positive.shape"
      ],
      "execution_count": null,
      "outputs": [
        {
          "output_type": "execute_result",
          "data": {
            "text/plain": [
              "(5331, 2)"
            ]
          },
          "metadata": {
            "tags": []
          },
          "execution_count": 119
        }
      ]
    },
    {
      "cell_type": "code",
      "metadata": {
        "colab": {
          "base_uri": "https://localhost:8080/",
          "height": 204
        },
        "id": "5Qs-5kFA68UT",
        "outputId": "8168051f-6e1d-417b-887c-069f1b5130f1"
      },
      "source": [
        "data = pd.concat([negative, positive], axis = 0)\n",
        "data.head()"
      ],
      "execution_count": null,
      "outputs": [
        {
          "output_type": "execute_result",
          "data": {
            "text/html": [
              "<div>\n",
              "<style scoped>\n",
              "    .dataframe tbody tr th:only-of-type {\n",
              "        vertical-align: middle;\n",
              "    }\n",
              "\n",
              "    .dataframe tbody tr th {\n",
              "        vertical-align: top;\n",
              "    }\n",
              "\n",
              "    .dataframe thead th {\n",
              "        text-align: right;\n",
              "    }\n",
              "</style>\n",
              "<table border=\"1\" class=\"dataframe\">\n",
              "  <thead>\n",
              "    <tr style=\"text-align: right;\">\n",
              "      <th></th>\n",
              "      <th>review</th>\n",
              "      <th>mark</th>\n",
              "    </tr>\n",
              "  </thead>\n",
              "  <tbody>\n",
              "    <tr>\n",
              "      <th>0</th>\n",
              "      <td>the rock is destined to be the 21st century's ...</td>\n",
              "      <td>0</td>\n",
              "    </tr>\n",
              "    <tr>\n",
              "      <th>1</th>\n",
              "      <td>the gorgeously elaborate continuation of \" the...</td>\n",
              "      <td>0</td>\n",
              "    </tr>\n",
              "    <tr>\n",
              "      <th>2</th>\n",
              "      <td>effective but too-tepid biopic</td>\n",
              "      <td>0</td>\n",
              "    </tr>\n",
              "    <tr>\n",
              "      <th>3</th>\n",
              "      <td>if you sometimes like to go to the movies to h...</td>\n",
              "      <td>0</td>\n",
              "    </tr>\n",
              "    <tr>\n",
              "      <th>4</th>\n",
              "      <td>emerges as something rare , an issue movie tha...</td>\n",
              "      <td>0</td>\n",
              "    </tr>\n",
              "  </tbody>\n",
              "</table>\n",
              "</div>"
            ],
            "text/plain": [
              "                                              review  mark\n",
              "0  the rock is destined to be the 21st century's ...     0\n",
              "1  the gorgeously elaborate continuation of \" the...     0\n",
              "2                     effective but too-tepid biopic     0\n",
              "3  if you sometimes like to go to the movies to h...     0\n",
              "4  emerges as something rare , an issue movie tha...     0"
            ]
          },
          "metadata": {
            "tags": []
          },
          "execution_count": 6
        }
      ]
    },
    {
      "cell_type": "code",
      "metadata": {
        "id": "h8pvt1_X7Kkq"
      },
      "source": [
        "import re\n",
        "def preprocess_text(text):\n",
        "    \n",
        "    text = text.lower()\n",
        " \n",
        "    text = re.sub('((www\\.[^\\s]+)|(https?://[^\\s]+))', ' ', text) \n",
        "    text = re.sub('[^a-zA-z]+', ' ', text)\n",
        "    text = re.sub('@[^\\s]+', ' ', text)\n",
        "    text = re.sub(' +', ' ', text)\n",
        "\n",
        "    return text.strip()"
      ],
      "execution_count": null,
      "outputs": []
    },
    {
      "cell_type": "code",
      "metadata": {
        "colab": {
          "base_uri": "https://localhost:8080/"
        },
        "id": "IudoDWIR7iOC",
        "outputId": "0b1bf917-c209-4564-e0ae-94405cf9952d"
      },
      "source": [
        "X = data['review'].values\n",
        "X = [preprocess_text(t) for t in X]\n",
        "y = data['mark'].values\n",
        "\n",
        "x_train, x_test, y_train, y_test = train_test_split(X, y, \n",
        "                                                    test_size = .2, \n",
        "                                                    random_state = 42)\n",
        "\n",
        "print('Yelp len', len(X))\n",
        "print('Train len', len(x_train))\n",
        "print('Train len', len(y_train))\n",
        "print('Test len', len(x_test))"
      ],
      "execution_count": null,
      "outputs": [
        {
          "output_type": "stream",
          "text": [
            "Yelp len 10662\n",
            "Train len 8529\n",
            "Train len 8529\n",
            "Test len 2133\n"
          ],
          "name": "stdout"
        }
      ]
    },
    {
      "cell_type": "code",
      "metadata": {
        "colab": {
          "base_uri": "https://localhost:8080/"
        },
        "id": "Icm0DlWy77tS",
        "outputId": "ef8d1756-b567-4310-b8a4-9960dc1f5544"
      },
      "source": [
        "x_train[:10]"
      ],
      "execution_count": null,
      "outputs": [
        {
          "output_type": "execute_result",
          "data": {
            "text/plain": [
              "['don michael paul uses quick cuts very large shadows and wide angle shots taken from a distance to hide the liberal use of a body double for seagal',\n",
              " 'such a premise is ripe for all manner of lunacy but kaufman and gondry rarely seem sure of where it should go',\n",
              " 'just an average comedic dateflick but not a waste of time',\n",
              " 'for those of an indulgent slightly sunbaked and summery mind sex and lucia may well prove diverting enough',\n",
              " 'has an unmistakable easy joie de vivre',\n",
              " 'nicholson s understated performance is wonderful as warren he stumbles in search of all the emotions and life experiences he s neglected over the years',\n",
              " 'a clich d and shallow cautionary tale about the hard partying lives of gay men',\n",
              " 'lathan and diggs carry the film with their charisma and both exhibit sharp comic timing that makes the more hackneyed elements of the film easier to digest',\n",
              " 'boomers and their kids will have a barrie good time',\n",
              " 'about the only thing to give the movie points for is bravado to take an entirely stale concept and push it through the audience s meat grinder one more time']"
            ]
          },
          "metadata": {
            "tags": []
          },
          "execution_count": 10
        }
      ]
    },
    {
      "cell_type": "markdown",
      "metadata": {
        "id": "junrh5e08Dvp"
      },
      "source": [
        "### Class Vocab"
      ]
    },
    {
      "cell_type": "code",
      "metadata": {
        "id": "NlL6c2hQBABa"
      },
      "source": [
        "import operator\n",
        "from functools import reduce"
      ],
      "execution_count": null,
      "outputs": []
    },
    {
      "cell_type": "code",
      "metadata": {
        "id": "goFiqnS_7_OJ"
      },
      "source": [
        "class Vocab:\n",
        "  def __init__(self, data):\n",
        "    tokens = set()\n",
        "    self.max_seq_len = 0\n",
        "    for review in data:\n",
        "      tokens.update(word_tokenize(review))\n",
        "      \n",
        "      \n",
        "    self.idx_to_token = {(idx+1): token for idx, token in enumerate(tokens)}\n",
        "\n",
        "    self.idx_to_token[0] = '<PAD>'\n",
        "    self.idx_to_token[len(self.idx_to_token)] = '<UNK>'\n",
        "\n",
        "\n",
        "    self.token_to_idx = {token: idx for idx, token in self.idx_to_token.items()}\n",
        "\n",
        "\n",
        "    self.vocab_len = len(self.idx_to_token)\n",
        "\n",
        "  \n",
        "    temp = [len(word_tokenize(i)) for i in data]\n",
        "    self.max_seq_len = max(temp)"
      ],
      "execution_count": null,
      "outputs": []
    },
    {
      "cell_type": "code",
      "metadata": {
        "colab": {
          "base_uri": "https://localhost:8080/"
        },
        "id": "boksQ_CX8QYy",
        "outputId": "d892a1f8-b787-49a6-9fad-51250c773c10"
      },
      "source": [
        "v = Vocab(x_train)\n",
        "print(v.vocab_len)\n",
        "print(v.max_seq_len)"
      ],
      "execution_count": null,
      "outputs": [
        {
          "output_type": "stream",
          "text": [
            "16389\n",
            "52\n"
          ],
          "name": "stdout"
        }
      ]
    },
    {
      "cell_type": "markdown",
      "metadata": {
        "id": "rfkR9WoriDMt"
      },
      "source": [
        "### ReviewDataset"
      ]
    },
    {
      "cell_type": "code",
      "metadata": {
        "id": "i7Z25pIN9nSw"
      },
      "source": [
        "class ReviewDataset(Dataset):\n",
        "  def __init__(self, X, y, vocab: Vocab):\n",
        "    self.X = X \n",
        "    self.y = y \n",
        "    self.vocab = vocab\n",
        "\n",
        "  def vectorize(self, review):\n",
        "    '''Генерирует представление отзыва review в виде bag of words (см. 1.2.1)'''\n",
        "    review_t = torch.zeros(self.vocab.max_seq_len + 2)  ## из-за  pad и unk\n",
        "    \n",
        "    for i, word in enumerate(word_tokenize(review)):\n",
        "        if i <= self.vocab.max_seq_len:\n",
        "            if word in list(self.vocab.token_to_idx.keys()):\n",
        "              review_t[i] = self.vocab.token_to_idx[word]\n",
        "            else:\n",
        "              review_t[-1] = self.vocab.token_to_idx['<UNK>']\n",
        "        else:\n",
        "           review_t[-2] = self.vocab.token_to_idx['<PAD>']\n",
        "\n",
        "    return review_t\n",
        "    \n",
        "  def __len__(self):\n",
        "    return len(self.X)\n",
        "\n",
        "  def __getitem__(self, idx):\n",
        "    return self.vectorize(self.X[idx]), self.y[idx]"
      ],
      "execution_count": null,
      "outputs": []
    },
    {
      "cell_type": "code",
      "metadata": {
        "colab": {
          "base_uri": "https://localhost:8080/"
        },
        "id": "JVjewHCJj1IR",
        "outputId": "42fdfc27-4747-431a-9d49-1479c8c9addb"
      },
      "source": [
        "ReviewDataset(x_train, y_train, v)[1]"
      ],
      "execution_count": null,
      "outputs": [
        {
          "output_type": "execute_result",
          "data": {
            "text/plain": [
              "(tensor([ 4425., 12014.,   832.,  5013., 15849., 10318., 12184.,  6000.,  2298.,\n",
              "         12994.,  1160.,  1024.,  9966.,  2583., 11478.,  5841.,  5783.,  2298.,\n",
              "          7940.,  6707.,   830.,   381.,     0.,     0.,     0.,     0.,     0.,\n",
              "             0.,     0.,     0.,     0.,     0.,     0.,     0.,     0.,     0.,\n",
              "             0.,     0.,     0.,     0.,     0.,     0.,     0.,     0.,     0.,\n",
              "             0.,     0.,     0.,     0.,     0.,     0.,     0.,     0.,     0.]),\n",
              " 1)"
            ]
          },
          "metadata": {
            "tags": []
          },
          "execution_count": 56
        }
      ]
    },
    {
      "cell_type": "markdown",
      "metadata": {
        "id": "yQ0oIytNlUEQ"
      },
      "source": [
        "### 3.6 Обучить классификатор"
      ]
    },
    {
      "cell_type": "code",
      "metadata": {
        "id": "90vKVWuUlIF1"
      },
      "source": [
        "review_train = ReviewDataset(x_train, y_train, v)\n",
        "review_test = ReviewDataset(x_test, y_test, v)\n",
        "\n",
        "r_dataloader_train = DataLoader(review_train, batch_size = 64, shuffle = True)\n",
        "r_dataloader_test = DataLoader(review_test, batch_size = 64, shuffle = True)"
      ],
      "execution_count": null,
      "outputs": []
    },
    {
      "cell_type": "code",
      "metadata": {
        "colab": {
          "base_uri": "https://localhost:8080/"
        },
        "id": "yvk_aGLbm-gS",
        "outputId": "a04388fb-b811-4275-e91e-9be8c91117a1"
      },
      "source": [
        "review_train[0][0].shape"
      ],
      "execution_count": null,
      "outputs": [
        {
          "output_type": "execute_result",
          "data": {
            "text/plain": [
              "torch.Size([54])"
            ]
          },
          "metadata": {
            "tags": []
          },
          "execution_count": 69
        }
      ]
    },
    {
      "cell_type": "code",
      "metadata": {
        "id": "LjTyIEvooNjL"
      },
      "source": [
        "model_1= nn.Sequential(nn.Embedding(v.vocab_len, v.max_seq_len+2),\n",
        "                        nn.Conv1d(v.max_seq_len+2, 300, 2),\n",
        "                        nn.BatchNorm1d(300),\n",
        "                        nn.ReLU(),\n",
        "                        nn.MaxPool1d(2))\n",
        "                        # nn.Flatten(),\n",
        "                        # nn.Linear(3456, 50),\n",
        "                        # nn.ReLU(),\n",
        "                        # nn.Linear(50, output))  ######"
      ],
      "execution_count": null,
      "outputs": []
    },
    {
      "cell_type": "code",
      "metadata": {
        "colab": {
          "base_uri": "https://localhost:8080/"
        },
        "id": "be7CHZL8oXLh",
        "outputId": "691ea028-2455-4783-e9dd-d3d80f3b64c3"
      },
      "source": [
        "x_batch, y_batch = next(iter(r_dataloader_train))\n",
        "x_batch = x_batch.view(-1, v.max_seq_len+2).long()\n",
        "model_1(x_batch).shape  "
      ],
      "execution_count": null,
      "outputs": [
        {
          "output_type": "execute_result",
          "data": {
            "text/plain": [
              "torch.Size([64, 300, 26])"
            ]
          },
          "metadata": {
            "tags": []
          },
          "execution_count": 90
        }
      ]
    },
    {
      "cell_type": "code",
      "metadata": {
        "id": "aWSUH9LXoQuD"
      },
      "source": [
        "for X_batch, y_batch in r_dataloader_train:\n",
        "\n",
        "    X_batch = X_batch.view(-1, v.max_seq_len).long()\n",
        "    out = model(X_batch)"
      ],
      "execution_count": null,
      "outputs": []
    },
    {
      "cell_type": "code",
      "metadata": {
        "id": "CNQDUMFVp8Zo"
      },
      "source": [
        "import numpy as np"
      ],
      "execution_count": null,
      "outputs": []
    },
    {
      "cell_type": "code",
      "metadata": {
        "colab": {
          "base_uri": "https://localhost:8080/"
        },
        "id": "W4THttpOmkyk",
        "outputId": "4cb5d734-93a4-4828-ea96-0f3c29bdbf7f"
      },
      "source": [
        "input = v.vocab_len\n",
        "output = len(set(y_test))\n",
        "\n",
        "model = nn.Sequential(nn.Embedding(v.vocab_len, v.max_seq_len+2),\n",
        "                        nn.Conv1d(v.max_seq_len+2, 300, 2),\n",
        "                        nn.BatchNorm1d(300),\n",
        "                        nn.ReLU(),\n",
        "                        nn.MaxPool1d(2),\n",
        "                        nn.Conv1d(300, 100, 2),\n",
        "                        nn.BatchNorm1d(100),\n",
        "                        nn.ReLU(),\n",
        "                        nn.MaxPool1d(2),\n",
        "                        nn.Flatten(),\n",
        "                        nn.Linear(1200, 50),\n",
        "                        nn.ReLU(),\n",
        "                        nn.Linear(50, output))  ######\n",
        "\n",
        "\n",
        "loss = nn.CrossEntropyLoss()\n",
        "optimizer = optim.Adam(model.parameters(), lr=0.001)\n",
        "losses = []\n",
        "\n",
        "n_epoch = 10\n",
        "for epoch in range(n_epoch):\n",
        "  for X_batch, y_batch in r_dataloader_train:\n",
        "    \n",
        "    # forward\n",
        "    X_batch = X_batch.view(-1, v.max_seq_len+2).long()\n",
        "    out = model(X_batch)\n",
        "    \n",
        "    # loss\n",
        "    batch_loss = loss(out, y_batch)\n",
        "    \n",
        "    # backward\n",
        "    batch_loss.backward()\n",
        "\n",
        "  # optimization\n",
        "    curr_loss = []\n",
        "    optimizer.step()\n",
        "    optimizer.zero_grad()\n",
        "    curr_loss.append(batch_loss.item())\n",
        "  losses.append(np.mean(curr_loss))\n",
        "  #if epoch%10 == 0:\n",
        "  print(f\"Epoch: {epoch}, loss: {losses[-1]}\")"
      ],
      "execution_count": null,
      "outputs": [
        {
          "output_type": "stream",
          "text": [
            "Epoch: 0, loss: 0.6936018466949463\n",
            "Epoch: 1, loss: 0.693688154220581\n",
            "Epoch: 2, loss: 0.6919589042663574\n",
            "Epoch: 3, loss: 0.6943435072898865\n",
            "Epoch: 4, loss: 0.6735219359397888\n",
            "Epoch: 5, loss: 0.6535554528236389\n",
            "Epoch: 6, loss: 0.5939276218414307\n",
            "Epoch: 7, loss: 0.5220785140991211\n",
            "Epoch: 8, loss: 0.31348228454589844\n",
            "Epoch: 9, loss: 0.16043336689472198\n"
          ],
          "name": "stdout"
        }
      ]
    },
    {
      "cell_type": "code",
      "metadata": {
        "colab": {
          "base_uri": "https://localhost:8080/",
          "height": 282
        },
        "id": "EJaB0xtJmzNd",
        "outputId": "9f875c34-7297-4063-f25f-294a56949852"
      },
      "source": [
        "import matplotlib.pyplot as plt\n",
        "\n",
        "plt.plot(losses)"
      ],
      "execution_count": null,
      "outputs": [
        {
          "output_type": "execute_result",
          "data": {
            "text/plain": [
              "[<matplotlib.lines.Line2D at 0x7f24e340df10>]"
            ]
          },
          "metadata": {
            "tags": []
          },
          "execution_count": 95
        },
        {
          "output_type": "display_data",
          "data": {
            "image/png": "[encoded data removed]",
            "text/plain": [
              "<Figure size 432x288 with 1 Axes>"
            ]
          },
          "metadata": {
            "tags": [],
            "needs_background": "light"
          }
        }
      ]
    },
    {
      "cell_type": "code",
      "metadata": {
        "colab": {
          "base_uri": "https://localhost:8080/"
        },
        "id": "HlKRRhIHq71a",
        "outputId": "6eaa213a-8598-4668-81bf-d1a15a188c5c"
      },
      "source": [
        "# Test Accuracy\n",
        "correct1, total1 = 0, 0\n",
        "with torch.no_grad():\n",
        "  for surname, labels in r_dataloader_test:\n",
        "    batch_size = surname.shape[0]\n",
        "\n",
        "    out = model(surname.view(batch_size, -1).long())\n",
        "    _, predicted = torch.max(out, dim=1)\n",
        "\n",
        "    total1 += labels.shape[0]\n",
        "    correct1 += int((predicted == labels).sum())\n",
        "print(f'Test Accuracy: {correct1 / total1}')"
      ],
      "execution_count": null,
      "outputs": [
        {
          "output_type": "stream",
          "text": [
            "Test Accuracy: 0.60056258790436\n"
          ],
          "name": "stdout"
        }
      ]
    },
    {
      "cell_type": "code",
      "metadata": {
        "id": "3F8WRD_HrAqA"
      },
      "source": [
        "review_pos = 'Wow guys wonderful service! 100% worth visiting. Amazing!'\n",
        "review_neg = 'Awful. Wont come here again'\n",
        "neg1 = 'Awful'\n",
        "pos1 = 'Super cool I liked it'\n",
        "\n",
        "#pos = torch.Tensor(review_train.vectorize(preprocess_text(review_pos))).view(1,-1)\n",
        "#neg = torch.Tensor(review_train.vectorize(preprocess_text(review_neg))).view(1,-1)\n",
        "neg1 = torch.Tensor(review_train.vectorize(preprocess_text(neg1))).view(1,-1)\n",
        "pos1 = torch.Tensor(review_train.vectorize(preprocess_text(pos1))).view(1,-1)"
      ],
      "execution_count": null,
      "outputs": []
    },
    {
      "cell_type": "code",
      "metadata": {
        "colab": {
          "base_uri": "https://localhost:8080/",
          "height": 204
        },
        "id": "4PC33ytguK4-",
        "outputId": "e26cd32c-bc84-4bda-89ba-c1c8a070cf1f"
      },
      "source": [
        "data.head()"
      ],
      "execution_count": null,
      "outputs": [
        {
          "output_type": "execute_result",
          "data": {
            "text/html": [
              "<div>\n",
              "<style scoped>\n",
              "    .dataframe tbody tr th:only-of-type {\n",
              "        vertical-align: middle;\n",
              "    }\n",
              "\n",
              "    .dataframe tbody tr th {\n",
              "        vertical-align: top;\n",
              "    }\n",
              "\n",
              "    .dataframe thead th {\n",
              "        text-align: right;\n",
              "    }\n",
              "</style>\n",
              "<table border=\"1\" class=\"dataframe\">\n",
              "  <thead>\n",
              "    <tr style=\"text-align: right;\">\n",
              "      <th></th>\n",
              "      <th>review</th>\n",
              "      <th>mark</th>\n",
              "    </tr>\n",
              "  </thead>\n",
              "  <tbody>\n",
              "    <tr>\n",
              "      <th>0</th>\n",
              "      <td>the rock is destined to be the 21st century's ...</td>\n",
              "      <td>0</td>\n",
              "    </tr>\n",
              "    <tr>\n",
              "      <th>1</th>\n",
              "      <td>the gorgeously elaborate continuation of \" the...</td>\n",
              "      <td>0</td>\n",
              "    </tr>\n",
              "    <tr>\n",
              "      <th>2</th>\n",
              "      <td>effective but too-tepid biopic</td>\n",
              "      <td>0</td>\n",
              "    </tr>\n",
              "    <tr>\n",
              "      <th>3</th>\n",
              "      <td>if you sometimes like to go to the movies to h...</td>\n",
              "      <td>0</td>\n",
              "    </tr>\n",
              "    <tr>\n",
              "      <th>4</th>\n",
              "      <td>emerges as something rare , an issue movie tha...</td>\n",
              "      <td>0</td>\n",
              "    </tr>\n",
              "  </tbody>\n",
              "</table>\n",
              "</div>"
            ],
            "text/plain": [
              "                                              review  mark\n",
              "0  the rock is destined to be the 21st century's ...     0\n",
              "1  the gorgeously elaborate continuation of \" the...     0\n",
              "2                     effective but too-tepid biopic     0\n",
              "3  if you sometimes like to go to the movies to h...     0\n",
              "4  emerges as something rare , an issue movie tha...     0"
            ]
          },
          "metadata": {
            "tags": []
          },
          "execution_count": 110
        }
      ]
    },
    {
      "cell_type": "code",
      "metadata": {
        "colab": {
          "base_uri": "https://localhost:8080/"
        },
        "id": "2evCfQrUrBKz",
        "outputId": "96a4ea43-a59f-4025-e9a9-cb3198ddd3f9"
      },
      "source": [
        "with torch.no_grad():\n",
        "    batch_size1 = pos.shape\n",
        "    batch_size2 = neg.shape\n",
        "\n",
        "    out1 = model.forward(pos1.view(batch_size1, -1).long())\n",
        "    out2 = model.forward(neg1.view(batch_size2, -1).long())\n",
        "\n",
        "    _, predicted1 = torch.max(out1, dim=1)\n",
        "    _, predicted2 = torch.max(out2, dim=1)\n",
        "\n",
        "preds = [predicted1, predicted2]\n",
        "print(preds)\n",
        "for i in preds:\n",
        "  if i.item() == 0:\n",
        "    print('Negative review')\n",
        "  else: \n",
        "    print('Positive review')"
      ],
      "execution_count": null,
      "outputs": [
        {
          "output_type": "stream",
          "text": [
            "[tensor([1]), tensor([1])]\n",
            "Positive review\n",
            "Positive review\n"
          ],
          "name": "stdout"
        }
      ]
    },
    {
      "cell_type": "code",
      "metadata": {
        "id": "7WvQ8MAAupai"
      },
      "source": [
        ""
      ],
      "execution_count": null,
      "outputs": []
    }
  ]
}